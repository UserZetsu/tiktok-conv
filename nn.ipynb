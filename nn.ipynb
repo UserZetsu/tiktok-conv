{
 "cells": [
  {
   "cell_type": "code",
   "execution_count": 1,
   "metadata": {},
   "outputs": [],
   "source": [
    "import os\n",
    "import pandas as pd\n",
    "import numpy as np\n"
   ]
  },
  {
   "cell_type": "code",
   "execution_count": 2,
   "metadata": {},
   "outputs": [],
   "source": [
    "# data loader\n",
    "def load_data(folders):\n",
    "    \"\"\" load csvs as flattened feature vectors with labels \"\"\"\n",
    "    data, labels = [], []\n",
    "\n",
    "    for folder, _ in folders:\n",
    "        if os.path.exists(folder):\n",
    "            for file in os.listdir(folder):\n",
    "                if file.endswith('.csv'):\n",
    "                    file_path = os.path.join(folder, file)\n",
    "                    df = pd.read_csv(file_path)\n",
    "                    label = df.iloc[0, 0]  # extract label\n",
    "                    features = df.iloc[:, 1:].values.flatten()  # flatten features\n",
    "                    data.append(features)\n",
    "                    labels.append(label)\n",
    "        else:\n",
    "            print(f\"warning: folder {folder} not found.\")\n",
    "\n",
    "    return np.array(data), np.array(labels)"
   ]
  },
  {
   "cell_type": "code",
   "execution_count": null,
   "metadata": {},
   "outputs": [],
   "source": [
    "# define training folders\n",
    "train_folders = [\n",
    "    ('ratdanceCSV/train', 1),  # label 1 for ratdance\n",
    "    ('negative_controlCSV/train', 0)  # label 0 for negative control\n",
    "]\n",
    "\n",
    "# load dataset\n",
    "X, y = load_data(train_folders)\n",
    "\n",
    "# normalize features\n",
    "scaler = StandardScaler()\n",
    "X = scaler.fit_transform(X)\n"
   ]
  }
 ],
 "metadata": {
  "kernelspec": {
   "display_name": "tiktok",
   "language": "python",
   "name": "python3"
  },
  "language_info": {
   "codemirror_mode": {
    "name": "ipython",
    "version": 3
   },
   "file_extension": ".py",
   "mimetype": "text/x-python",
   "name": "python",
   "nbconvert_exporter": "python",
   "pygments_lexer": "ipython3",
   "version": "3.9.21"
  }
 },
 "nbformat": 4,
 "nbformat_minor": 2
}
