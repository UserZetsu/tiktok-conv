{
 "cells": [
  {
   "cell_type": "code",
   "execution_count": 2,
   "metadata": {},
   "outputs": [],
   "source": [
    "import os\n",
    "import pandas as pd\n",
    "import numpy as np\n",
    "import tensorflow as tf\n",
    "from tensorflow import keras\n",
    "from tensorflow.keras.regularizers import l2\n",
    "from sklearn.preprocessing import StandardScaler\n",
    "from sklearn.model_selection import StratifiedKFold\n",
    "from sklearn.metrics import accuracy_score, classification_report, confusion_matrix\n",
    "import keras_tuner as kt\n",
    "\n",
    "# set random seed for reproducibility\n",
    "np.random.seed(69)\n",
    "tf.random.set_seed(69)"
   ]
  },
  {
   "cell_type": "code",
   "execution_count": 3,
   "metadata": {},
   "outputs": [],
   "source": [
    "## Load and Process Data ##\n",
    "# function to load and process data (removes first 1/4)\n",
    "def load_augmented_sequences(folders):\n",
    "    \"\"\" \n",
    "    load csvs as sequences, remove first 1/4 of frames, \n",
    "    split the remaining into 3 smaller examples, and remove examples where >50% of columns are all zeros \n",
    "    \"\"\"\n",
    "    data, labels = [], []\n",
    "\n",
    "    for folder, label in folders:\n",
    "        if os.path.exists(folder):\n",
    "            for file in os.listdir(folder):\n",
    "                if file.endswith('.csv'):\n",
    "                    file_path = os.path.join(folder, file)\n",
    "                    df = pd.read_csv(file_path)\n",
    "\n",
    "                    # remove 'frame' column and keep only movement data\n",
    "                    features = df.iloc[:, 2:].values  \n",
    "\n",
    "                    # remove first 1/4 of the sequence\n",
    "                    num_rows = len(features)\n",
    "                    start_idx = num_rows // 4  # remove first 25% of rows\n",
    "                    features = features[start_idx:]\n",
    "\n",
    "                    # split remaining data into 3 equal parts\n",
    "                    num_splits = 3\n",
    "                    split_size = len(features) // num_splits\n",
    "\n",
    "                    for i in range(num_splits):\n",
    "                        sub_features = features[i * split_size: (i + 1) * split_size]\n",
    "\n",
    "                        # check if more than 50% of the columns are completely zero\n",
    "                        zero_columns = np.sum(sub_features == 0, axis=0) == sub_features.shape[0]\n",
    "                        if np.mean(zero_columns) > 0.5:\n",
    "                            continue  # skip this example\n",
    "\n",
    "                        data.append(sub_features)\n",
    "                        labels.append(label)\n",
    "        else:\n",
    "            print(f\"warning folder {folder} not found\")\n",
    "\n",
    "    return np.array(data), np.array(labels)\n",
    "\n",
    "# define training folders\n",
    "train_folders = [\n",
    "    ('../rat_dance_csv/train', 1),\n",
    "    ('../neg_control_csv/train', 0)\n",
    "]\n",
    "\n",
    "# load dataset\n",
    "X, y = load_augmented_sequences(train_folders)\n",
    "\n",
    "# normalize features\n",
    "scaler = StandardScaler()\n",
    "X = np.array([scaler.fit_transform(sample) for sample in X])  # normalize each sequence separately\n",
    "\n",
    "# shuffle dataset\n",
    "indices = np.random.permutation(len(X))\n",
    "X, y = X[indices], y[indices]\n",
    "\n",
    "# reshape X for RNN (samples, timesteps, features)\n",
    "timesteps, features = X.shape[1], X.shape[2]\n",
    "X = X.reshape(len(X), timesteps, features)"
   ]
  },
  {
   "cell_type": "code",
   "execution_count": 4,
   "metadata": {},
   "outputs": [],
   "source": [
    "## Define Optimized RNN ##\n",
    "# function to build an optimized rnn model\n",
    "def build_model(hp):\n",
    "    model = keras.Sequential([\n",
    "        # bidirectional lstm for better sequence learning\n",
    "        keras.layers.Bidirectional(keras.layers.LSTM(\n",
    "            units=hp.Int(\"units\", min_value=32, max_value=96, step=16),\n",
    "            return_sequences=False,\n",
    "            recurrent_dropout=hp.Float(\"recurrent_dropout\", 0.1, 0.4, step=0.1),\n",
    "            input_shape=(timesteps, features),\n",
    "        )),\n",
    "        keras.layers.Dropout(hp.Float(\"dropout\", 0.3, 0.5, step=0.1)),\n",
    "\n",
    "        # fully connected dense layer\n",
    "        keras.layers.Dense(\n",
    "            hp.Int(\"dense_units\", 16, 64, step=16), activation=\"relu\", kernel_regularizer=l2(0.02)\n",
    "        ),\n",
    "        keras.layers.BatchNormalization(),\n",
    "        keras.layers.Dropout(hp.Float(\"dense_dropout\", 0.3, 0.5, step=0.1)),\n",
    "\n",
    "        # output layer\n",
    "        keras.layers.Dense(1, activation=\"sigmoid\"),\n",
    "    ])\n",
    "\n",
    "    # compile model with fixed learning rate\n",
    "    model.compile(\n",
    "        optimizer=keras.optimizers.Adam(\n",
    "            learning_rate=hp.Choice(\"learning_rate\", [0.0005, 0.0001, 0.00005])\n",
    "        ),\n",
    "        loss=\"binary_crossentropy\",\n",
    "        metrics=[\"accuracy\"],\n",
    "    )\n",
    "\n",
    "    return model"
   ]
  },
  {
   "cell_type": "code",
   "execution_count": 5,
   "metadata": {},
   "outputs": [
    {
     "name": "stdout",
     "output_type": "stream",
     "text": [
      "Trial 10 Complete [00h 00m 10s]\n",
      "val_loss: 1.8584233522415161\n",
      "\n",
      "Best val_loss So Far: 1.2285157442092896\n",
      "Total elapsed time: 00h 01m 36s\n",
      "Best LSTM units: 64\n",
      "Best dropout: 0.3\n",
      "Best recurrent dropout: 0.2\n",
      "Best dense units: 16\n",
      "Best learning rate: 0.0005\n"
     ]
    }
   ],
   "source": [
    "## Run Hyperparam Tuning\n",
    "# use keras tuner to search for best hyperparameters\n",
    "tuner = kt.tuners.RandomSearch(\n",
    "    hypermodel=build_model,\n",
    "    objective=\"val_loss\", \n",
    "    max_trials=10, \n",
    "    executions_per_trial=2,\n",
    "    directory=\"delete_me_post_search\",\n",
    "    project_name=\"lstm_tuning\",\n",
    ")\n",
    "\n",
    "# split data for tuning\n",
    "kf = StratifiedKFold(n_splits=5, shuffle=True, random_state=69)\n",
    "train_index, val_index = next(kf.split(X, y)) \n",
    "X_train, X_val = X[train_index], X[val_index]\n",
    "y_train, y_val = y[train_index], y[val_index]\n",
    "\n",
    "# search for best hyperparameters\n",
    "tuner.search(X_train, y_train, epochs=10, batch_size=64, validation_data=(X_val, y_val), verbose=1)\n",
    "\n",
    "# get best hyperparameters\n",
    "best_hps = tuner.get_best_hyperparameters(num_trials=1)[0]\n",
    "\n",
    "# print best values\n",
    "print(f\"Best LSTM units: {best_hps.get('units')}\")\n",
    "print(f\"Best dropout: {best_hps.get('dropout')}\")\n",
    "print(f\"Best recurrent dropout: {best_hps.get('recurrent_dropout')}\")\n",
    "print(f\"Best dense units: {best_hps.get('dense_units')}\")\n",
    "print(f\"Best learning rate: {best_hps.get('learning_rate')}\")"
   ]
  },
  {
   "cell_type": "code",
   "execution_count": 6,
   "metadata": {},
   "outputs": [
    {
     "name": "stdout",
     "output_type": "stream",
     "text": [
      "final cross validation accuracy: 0.7700\n"
     ]
    }
   ],
   "source": [
    "## Train and Validate Final Model\n",
    "# create final model using best hyperparameters\n",
    "final_model = tuner.hypermodel.build(best_hps)\n",
    "\n",
    "# define early stopping\n",
    "early_stopping = keras.callbacks.EarlyStopping(\n",
    "    monitor=\"val_loss\", patience=5, restore_best_weights=True\n",
    ")\n",
    "\n",
    "# define reduce learning rate callback\n",
    "reduce_lr = keras.callbacks.ReduceLROnPlateau(\n",
    "    monitor=\"val_loss\", factor=0.5, patience=3, min_lr=1e-6\n",
    ")\n",
    "\n",
    "# train final model on full dataset\n",
    "kf = StratifiedKFold(n_splits=5, shuffle=True, random_state=69)\n",
    "cv_accuracies = []\n",
    "\n",
    "for train_index, val_index in kf.split(X, y):\n",
    "    X_train, X_val = X[train_index], X[val_index]\n",
    "    y_train, y_val = y[train_index], y[val_index]\n",
    "\n",
    "    final_model.fit(X_train, y_train, epochs=15, batch_size=64, verbose=0, validation_data=(X_val, y_val), callbacks=[early_stopping, reduce_lr])\n",
    "\n",
    "    # evaluate the model\n",
    "    val_loss, val_acc = final_model.evaluate(X_val, y_val, verbose=0)\n",
    "    cv_accuracies.append(val_acc)\n",
    "\n",
    "# print cross validation accuracy\n",
    "cross_val_acc = np.mean(cv_accuracies)\n",
    "print(f\"final cross validation accuracy: {cross_val_acc:.4f}\")\n"
   ]
  },
  {
   "cell_type": "code",
   "execution_count": 7,
   "metadata": {},
   "outputs": [
    {
     "name": "stdout",
     "output_type": "stream",
     "text": [
      "\u001b[1m2/2\u001b[0m \u001b[32m━━━━━━━━━━━━━━━━━━━━\u001b[0m\u001b[37m\u001b[0m \u001b[1m0s\u001b[0m 245ms/step\n",
      "\n",
      "Validation Performance:\n",
      "Accuracy: 0.5641\n",
      "\n",
      "Classification Report:\n",
      "                      precision    recall  f1-score   support\n",
      "\n",
      "negative control (0)       0.58      0.71      0.64        21\n",
      "        ratdance (1)       0.54      0.39      0.45        18\n",
      "\n",
      "            accuracy                           0.56        39\n",
      "           macro avg       0.56      0.55      0.54        39\n",
      "        weighted avg       0.56      0.56      0.55        39\n",
      "\n",
      "\n",
      "Confusion Matrix:\n",
      "[[15  6]\n",
      " [11  7]]\n"
     ]
    }
   ],
   "source": [
    "## Validation set for further Tuning\n",
    "# load validation dataset\n",
    "val_folders = [\n",
    "    ('../rat_dance_csv/val', 1),\n",
    "    ('../neg_control_csv/val', 0)\n",
    "]\n",
    "\n",
    "X_val, y_val = load_augmented_sequences(val_folders)\n",
    "X_val = np.array([scaler.transform(sample) for sample in X_val])  \n",
    "X_val = X_val.reshape(len(X_val), timesteps, features)  \n",
    "\n",
    "# evaluate final model on validation set\n",
    "y_pred_prob = final_model.predict(X_val)\n",
    "y_pred = (y_pred_prob > 0.5).astype(int)  \n",
    "\n",
    "accuracy = accuracy_score(y_val, y_pred)\n",
    "class_report = classification_report(y_val, y_pred, target_names=[\"negative control (0)\", \"ratdance (1)\"])\n",
    "conf_matrix = confusion_matrix(y_val, y_pred)\n",
    "\n",
    "# show results\n",
    "print(f\"\\nValidation Performance:\")\n",
    "print(f\"Accuracy: {accuracy:.4f}\")\n",
    "print(\"\\nClassification Report:\")\n",
    "print(class_report)\n",
    "print(\"\\nConfusion Matrix:\")\n",
    "print(conf_matrix) \n"
   ]
  },
  {
   "cell_type": "code",
   "execution_count": 8,
   "metadata": {},
   "outputs": [
    {
     "name": "stdout",
     "output_type": "stream",
     "text": [
      "\u001b[1m2/2\u001b[0m \u001b[32m━━━━━━━━━━━━━━━━━━━━\u001b[0m\u001b[37m\u001b[0m \u001b[1m0s\u001b[0m 17ms/step\n",
      "\n",
      "Test Set Performance:\n",
      "Accuracy: 0.6216\n",
      "\n",
      "Classification Report:\n",
      "                      precision    recall  f1-score   support\n",
      "\n",
      "negative control (0)       0.61      0.85      0.71        20\n",
      "        ratdance (1)       0.67      0.35      0.46        17\n",
      "\n",
      "            accuracy                           0.62        37\n",
      "           macro avg       0.64      0.60      0.58        37\n",
      "        weighted avg       0.63      0.62      0.59        37\n",
      "\n",
      "\n",
      "Confusion Matrix:\n",
      "[[17  3]\n",
      " [11  6]]\n"
     ]
    }
   ],
   "source": [
    "## Final Test Set (No more changes can be made after running this block)\n",
    "# load test dataset\n",
    "test_folders = [\n",
    "    ('../rat_dance_csv/test', 1),\n",
    "    ('../neg_control_csv/test', 0)\n",
    "]\n",
    "\n",
    "X_test, y_test = load_augmented_sequences(test_folders)\n",
    "X_test = np.array([scaler.transform(sample) for sample in X_test])  \n",
    "X_test = X_test.reshape(len(X_test), timesteps, features)  \n",
    "\n",
    "# evaluate final model on test set\n",
    "y_test_pred_prob = final_model.predict(X_test)\n",
    "y_test_pred = (y_test_pred_prob > 0.5).astype(int)  \n",
    "\n",
    "# compute evaluation metrics\n",
    "test_accuracy = accuracy_score(y_test, y_test_pred)\n",
    "test_class_report = classification_report(y_test, y_test_pred, target_names=[\"negative control (0)\", \"ratdance (1)\"])\n",
    "test_conf_matrix = confusion_matrix(y_test, y_test_pred)\n",
    "\n",
    "# display results\n",
    "print(f\"\\nTest Set Performance:\")\n",
    "print(f\"Accuracy: {test_accuracy:.4f}\")\n",
    "print(\"\\nClassification Report:\")\n",
    "print(test_class_report)\n",
    "print(\"\\nConfusion Matrix:\")\n",
    "print(test_conf_matrix)\n"
   ]
  },
  {
   "cell_type": "code",
   "execution_count": null,
   "metadata": {},
   "outputs": [
    {
     "data": {
      "text/plain": [
       "['rnn_quater_scaler.pkl']"
      ]
     },
     "execution_count": 11,
     "metadata": {},
     "output_type": "execute_result"
    }
   ],
   "source": [
    "import joblib\n",
    "\n",
    "final_model.save('rnn_quarter_model.keras')\n",
    "joblib.dump(scaler, 'rnn_quarter_scaler.pkl')"
   ]
  },
  {
   "cell_type": "code",
   "execution_count": 12,
   "metadata": {},
   "outputs": [
    {
     "data": {
      "text/html": [
       "<pre style=\"white-space:pre;overflow-x:auto;line-height:normal;font-family:Menlo,'DejaVu Sans Mono',consolas,'Courier New',monospace\"><span style=\"font-weight: bold\">Model: \"sequential_1\"</span>\n",
       "</pre>\n"
      ],
      "text/plain": [
       "\u001b[1mModel: \"sequential_1\"\u001b[0m\n"
      ]
     },
     "metadata": {},
     "output_type": "display_data"
    },
    {
     "data": {
      "text/html": [
       "<pre style=\"white-space:pre;overflow-x:auto;line-height:normal;font-family:Menlo,'DejaVu Sans Mono',consolas,'Courier New',monospace\">┏━━━━━━━━━━━━━━━━━━━━━━━━━━━━━━━━━┳━━━━━━━━━━━━━━━━━━━━━━━━┳━━━━━━━━━━━━━━━┓\n",
       "┃<span style=\"font-weight: bold\"> Layer (type)                    </span>┃<span style=\"font-weight: bold\"> Output Shape           </span>┃<span style=\"font-weight: bold\">       Param # </span>┃\n",
       "┡━━━━━━━━━━━━━━━━━━━━━━━━━━━━━━━━━╇━━━━━━━━━━━━━━━━━━━━━━━━╇━━━━━━━━━━━━━━━┩\n",
       "│ bidirectional_1 (<span style=\"color: #0087ff; text-decoration-color: #0087ff\">Bidirectional</span>) │ (<span style=\"color: #00d7ff; text-decoration-color: #00d7ff\">None</span>, <span style=\"color: #00af00; text-decoration-color: #00af00\">128</span>)            │        <span style=\"color: #00af00; text-decoration-color: #00af00\">67,072</span> │\n",
       "├─────────────────────────────────┼────────────────────────┼───────────────┤\n",
       "│ dropout_2 (<span style=\"color: #0087ff; text-decoration-color: #0087ff\">Dropout</span>)             │ (<span style=\"color: #00d7ff; text-decoration-color: #00d7ff\">None</span>, <span style=\"color: #00af00; text-decoration-color: #00af00\">128</span>)            │             <span style=\"color: #00af00; text-decoration-color: #00af00\">0</span> │\n",
       "├─────────────────────────────────┼────────────────────────┼───────────────┤\n",
       "│ dense_2 (<span style=\"color: #0087ff; text-decoration-color: #0087ff\">Dense</span>)                 │ (<span style=\"color: #00d7ff; text-decoration-color: #00d7ff\">None</span>, <span style=\"color: #00af00; text-decoration-color: #00af00\">16</span>)             │         <span style=\"color: #00af00; text-decoration-color: #00af00\">2,064</span> │\n",
       "├─────────────────────────────────┼────────────────────────┼───────────────┤\n",
       "│ batch_normalization_1           │ (<span style=\"color: #00d7ff; text-decoration-color: #00d7ff\">None</span>, <span style=\"color: #00af00; text-decoration-color: #00af00\">16</span>)             │            <span style=\"color: #00af00; text-decoration-color: #00af00\">64</span> │\n",
       "│ (<span style=\"color: #0087ff; text-decoration-color: #0087ff\">BatchNormalization</span>)            │                        │               │\n",
       "├─────────────────────────────────┼────────────────────────┼───────────────┤\n",
       "│ dropout_3 (<span style=\"color: #0087ff; text-decoration-color: #0087ff\">Dropout</span>)             │ (<span style=\"color: #00d7ff; text-decoration-color: #00d7ff\">None</span>, <span style=\"color: #00af00; text-decoration-color: #00af00\">16</span>)             │             <span style=\"color: #00af00; text-decoration-color: #00af00\">0</span> │\n",
       "├─────────────────────────────────┼────────────────────────┼───────────────┤\n",
       "│ dense_3 (<span style=\"color: #0087ff; text-decoration-color: #0087ff\">Dense</span>)                 │ (<span style=\"color: #00d7ff; text-decoration-color: #00d7ff\">None</span>, <span style=\"color: #00af00; text-decoration-color: #00af00\">1</span>)              │            <span style=\"color: #00af00; text-decoration-color: #00af00\">17</span> │\n",
       "└─────────────────────────────────┴────────────────────────┴───────────────┘\n",
       "</pre>\n"
      ],
      "text/plain": [
       "┏━━━━━━━━━━━━━━━━━━━━━━━━━━━━━━━━━┳━━━━━━━━━━━━━━━━━━━━━━━━┳━━━━━━━━━━━━━━━┓\n",
       "┃\u001b[1m \u001b[0m\u001b[1mLayer (type)                   \u001b[0m\u001b[1m \u001b[0m┃\u001b[1m \u001b[0m\u001b[1mOutput Shape          \u001b[0m\u001b[1m \u001b[0m┃\u001b[1m \u001b[0m\u001b[1m      Param #\u001b[0m\u001b[1m \u001b[0m┃\n",
       "┡━━━━━━━━━━━━━━━━━━━━━━━━━━━━━━━━━╇━━━━━━━━━━━━━━━━━━━━━━━━╇━━━━━━━━━━━━━━━┩\n",
       "│ bidirectional_1 (\u001b[38;5;33mBidirectional\u001b[0m) │ (\u001b[38;5;45mNone\u001b[0m, \u001b[38;5;34m128\u001b[0m)            │        \u001b[38;5;34m67,072\u001b[0m │\n",
       "├─────────────────────────────────┼────────────────────────┼───────────────┤\n",
       "│ dropout_2 (\u001b[38;5;33mDropout\u001b[0m)             │ (\u001b[38;5;45mNone\u001b[0m, \u001b[38;5;34m128\u001b[0m)            │             \u001b[38;5;34m0\u001b[0m │\n",
       "├─────────────────────────────────┼────────────────────────┼───────────────┤\n",
       "│ dense_2 (\u001b[38;5;33mDense\u001b[0m)                 │ (\u001b[38;5;45mNone\u001b[0m, \u001b[38;5;34m16\u001b[0m)             │         \u001b[38;5;34m2,064\u001b[0m │\n",
       "├─────────────────────────────────┼────────────────────────┼───────────────┤\n",
       "│ batch_normalization_1           │ (\u001b[38;5;45mNone\u001b[0m, \u001b[38;5;34m16\u001b[0m)             │            \u001b[38;5;34m64\u001b[0m │\n",
       "│ (\u001b[38;5;33mBatchNormalization\u001b[0m)            │                        │               │\n",
       "├─────────────────────────────────┼────────────────────────┼───────────────┤\n",
       "│ dropout_3 (\u001b[38;5;33mDropout\u001b[0m)             │ (\u001b[38;5;45mNone\u001b[0m, \u001b[38;5;34m16\u001b[0m)             │             \u001b[38;5;34m0\u001b[0m │\n",
       "├─────────────────────────────────┼────────────────────────┼───────────────┤\n",
       "│ dense_3 (\u001b[38;5;33mDense\u001b[0m)                 │ (\u001b[38;5;45mNone\u001b[0m, \u001b[38;5;34m1\u001b[0m)              │            \u001b[38;5;34m17\u001b[0m │\n",
       "└─────────────────────────────────┴────────────────────────┴───────────────┘\n"
      ]
     },
     "metadata": {},
     "output_type": "display_data"
    },
    {
     "data": {
      "text/html": [
       "<pre style=\"white-space:pre;overflow-x:auto;line-height:normal;font-family:Menlo,'DejaVu Sans Mono',consolas,'Courier New',monospace\"><span style=\"font-weight: bold\"> Total params: </span><span style=\"color: #00af00; text-decoration-color: #00af00\">207,589</span> (810.90 KB)\n",
       "</pre>\n"
      ],
      "text/plain": [
       "\u001b[1m Total params: \u001b[0m\u001b[38;5;34m207,589\u001b[0m (810.90 KB)\n"
      ]
     },
     "metadata": {},
     "output_type": "display_data"
    },
    {
     "data": {
      "text/html": [
       "<pre style=\"white-space:pre;overflow-x:auto;line-height:normal;font-family:Menlo,'DejaVu Sans Mono',consolas,'Courier New',monospace\"><span style=\"font-weight: bold\"> Trainable params: </span><span style=\"color: #00af00; text-decoration-color: #00af00\">69,185</span> (270.25 KB)\n",
       "</pre>\n"
      ],
      "text/plain": [
       "\u001b[1m Trainable params: \u001b[0m\u001b[38;5;34m69,185\u001b[0m (270.25 KB)\n"
      ]
     },
     "metadata": {},
     "output_type": "display_data"
    },
    {
     "data": {
      "text/html": [
       "<pre style=\"white-space:pre;overflow-x:auto;line-height:normal;font-family:Menlo,'DejaVu Sans Mono',consolas,'Courier New',monospace\"><span style=\"font-weight: bold\"> Non-trainable params: </span><span style=\"color: #00af00; text-decoration-color: #00af00\">32</span> (128.00 B)\n",
       "</pre>\n"
      ],
      "text/plain": [
       "\u001b[1m Non-trainable params: \u001b[0m\u001b[38;5;34m32\u001b[0m (128.00 B)\n"
      ]
     },
     "metadata": {},
     "output_type": "display_data"
    },
    {
     "data": {
      "text/html": [
       "<pre style=\"white-space:pre;overflow-x:auto;line-height:normal;font-family:Menlo,'DejaVu Sans Mono',consolas,'Courier New',monospace\"><span style=\"font-weight: bold\"> Optimizer params: </span><span style=\"color: #00af00; text-decoration-color: #00af00\">138,372</span> (540.52 KB)\n",
       "</pre>\n"
      ],
      "text/plain": [
       "\u001b[1m Optimizer params: \u001b[0m\u001b[38;5;34m138,372\u001b[0m (540.52 KB)\n"
      ]
     },
     "metadata": {},
     "output_type": "display_data"
    }
   ],
   "source": [
    "final_model.summary()"
   ]
  },
  {
   "cell_type": "code",
   "execution_count": null,
   "metadata": {},
   "outputs": [],
   "source": []
  }
 ],
 "metadata": {
  "kernelspec": {
   "display_name": "tiktok",
   "language": "python",
   "name": "python3"
  },
  "language_info": {
   "codemirror_mode": {
    "name": "ipython",
    "version": 3
   },
   "file_extension": ".py",
   "mimetype": "text/x-python",
   "name": "python",
   "nbconvert_exporter": "python",
   "pygments_lexer": "ipython3",
   "version": "3.9.21"
  },
  "orig_nbformat": 4
 },
 "nbformat": 4,
 "nbformat_minor": 2
}
