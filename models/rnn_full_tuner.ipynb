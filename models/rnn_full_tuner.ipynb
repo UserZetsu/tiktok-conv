{
 "cells": [
  {
   "cell_type": "code",
   "execution_count": 1,
   "metadata": {},
   "outputs": [],
   "source": [
    "import os\n",
    "import pandas as pd\n",
    "import numpy as np\n",
    "import tensorflow as tf\n",
    "from tensorflow import keras\n",
    "from tensorflow.keras.regularizers import l2\n",
    "from sklearn.preprocessing import StandardScaler\n",
    "from sklearn.model_selection import StratifiedKFold\n",
    "from sklearn.metrics import accuracy_score, classification_report, confusion_matrix\n",
    "import keras_tuner as kt"
   ]
  },
  {
   "cell_type": "code",
   "execution_count": 2,
   "metadata": {},
   "outputs": [],
   "source": [
    "# set random seed\n",
    "np.random.seed(69)\n",
    "tf.random.set_seed(69)"
   ]
  },
  {
   "cell_type": "code",
   "execution_count": 3,
   "metadata": {},
   "outputs": [],
   "source": [
    "# load sequential data\n",
    "def load_sequential_data(folders):\n",
    "    \"\"\" load csvs as sequences, removing the frame column \"\"\"\n",
    "    data, labels = [], []\n",
    "\n",
    "    for folder, _ in folders:\n",
    "        if os.path.exists(folder):\n",
    "            for file in os.listdir(folder):\n",
    "                if file.endswith('.csv'):\n",
    "                    file_path = os.path.join(folder, file)\n",
    "                    df = pd.read_csv(file_path)\n",
    "\n",
    "                    label = df.iloc[0, 0]  # extract label\n",
    "                    features = df.iloc[:, 2:].values  # remove frame only keeps movement data\n",
    "                    \n",
    "                    data.append(features)\n",
    "                    labels.append(label)\n",
    "        else:\n",
    "            print(f\"warning: folder {folder} not found.\")\n",
    "\n",
    "    return np.array(data), np.array(labels)"
   ]
  },
  {
   "cell_type": "code",
   "execution_count": 27,
   "metadata": {},
   "outputs": [
    {
     "name": "stdout",
     "output_type": "stream",
     "text": [
      "Trial 15 Complete [00h 00m 22s]\n",
      "loss: 0.7681911587715149\n",
      "\n",
      "Best loss So Far: 0.7338444888591766\n",
      "Total elapsed time: 00h 04m 46s\n",
      "Best LSTM units: 48\n",
      "Best dropout: 0.5\n",
      "Best recurrent dropout: 0.30000000000000004\n",
      "Best dense units: 16\n",
      "Best learning rate: 0.001\n"
     ]
    }
   ],
   "source": [
    "# define training folders\n",
    "train_folders = [\n",
    "    ('../rat_dance_csv/train', 1),\n",
    "    ('../neg_control_csv/train', 0)\n",
    "]\n",
    "\n",
    "# load dataset\n",
    "X, y = load_sequential_data(train_folders)\n",
    "\n",
    "# normalize features\n",
    "scaler = StandardScaler()\n",
    "# normalize each sequence separately\n",
    "X = np.array([scaler.fit_transform(sample) for sample in X])\n",
    "\n",
    "# shuffle dataset\n",
    "indices = np.random.permutation(len(X))\n",
    "X, y = X[indices], y[indices]\n",
    "\n",
    "# reshape X for RNN --samples, timesteps, features--\n",
    "timesteps, features = X.shape[1], X.shape[2]\n",
    "X = X.reshape(len(X), timesteps, features)\n",
    "\n",
    "# use entire training set for tuning \n",
    "X_train, y_train = X, y \n",
    "\n",
    "# function to build the model for hyperparameter tuning\n",
    "def build_model(hp):\n",
    "    model = keras.Sequential([\n",
    "        keras.layers.LSTM(\n",
    "            units=hp.Int(\"units\", min_value=32, max_value=128, step=16),\n",
    "            return_sequences=True,\n",
    "            recurrent_dropout=hp.Float(\"recurrent_dropout\", 0.1, 0.5, step=0.1),\n",
    "            input_shape=(timesteps, features),\n",
    "        ),\n",
    "        keras.layers.Dropout(hp.Float(\"dropout\", 0.3, 0.7, step=0.1)),\n",
    "        keras.layers.LSTM(\n",
    "            units=hp.Int(\"units_lstm2\", min_value=16, max_value=64, step=16),\n",
    "            return_sequences=False\n",
    "        ),\n",
    "        keras.layers.Dropout(hp.Float(\"dropout\", 0.3, 0.7, step=0.1)),\n",
    "        keras.layers.Dense(\n",
    "            hp.Int(\"dense_units\", 16, 64, step=16), activation=\"relu\", kernel_regularizer=l2(0.01)\n",
    "        ),\n",
    "        keras.layers.Dense(1, activation=\"sigmoid\"),\n",
    "    ])\n",
    "\n",
    "    model.compile(\n",
    "        optimizer=keras.optimizers.Adam(\n",
    "            learning_rate=hp.Choice(\"learning_rate\", [0.001, 0.0005, 0.0001])\n",
    "        ),\n",
    "        loss=\"binary_crossentropy\",\n",
    "        metrics=[\"accuracy\"],\n",
    "    )\n",
    "    return model\n",
    "\n",
    "# use keras tuner to search for best hyperparameters\n",
    "tuner = kt.RandomSearch(\n",
    "    hypermodel=build_model,\n",
    "    objective=\"loss\", \n",
    "    max_trials=15, \n",
    "    executions_per_trial=2, \n",
    "    directory=\"delete_me_post_search_too\",\n",
    "    project_name=\"lstm_tuning\",\n",
    ")\n",
    "\n",
    "# search for best hyperparameters\n",
    "tuner.search(X_train, y_train, epochs=10, batch_size=32, verbose=1) \n",
    "\n",
    "# get best hyperparameters\n",
    "best_hps = tuner.get_best_hyperparameters(num_trials=1)[0]\n",
    "\n",
    "# print best values\n",
    "print(f\"Best LSTM units: {best_hps.get('units')}\")\n",
    "print(f\"Best dropout: {best_hps.get('dropout')}\")\n",
    "print(f\"Best recurrent dropout: {best_hps.get('recurrent_dropout')}\")\n",
    "print(f\"Best dense units: {best_hps.get('dense_units')}\")\n",
    "print(f\"Best learning rate: {best_hps.get('learning_rate')}\")\n"
   ]
  },
  {
   "cell_type": "code",
   "execution_count": 33,
   "metadata": {},
   "outputs": [
    {
     "name": "stderr",
     "output_type": "stream",
     "text": [
      "/Library/Frameworks/Python.framework/Versions/3.11/lib/python3.11/site-packages/keras/src/layers/rnn/rnn.py:200: UserWarning: Do not pass an `input_shape`/`input_dim` argument to a layer. When using Sequential models, prefer using an `Input(shape)` object as the first layer in the model instead.\n",
      "  super().__init__(**kwargs)\n"
     ]
    },
    {
     "name": "stdout",
     "output_type": "stream",
     "text": [
      "cross-validation accuracy: 0.7944\n"
     ]
    }
   ],
   "source": [
    "# create final model using best hyperparameters\n",
    "final_model = tuner.hypermodel.build(best_hps)\n",
    "\n",
    "# define early stopping\n",
    "early_stopping = keras.callbacks.EarlyStopping(\n",
    "    monitor=\"val_loss\", patience=5, restore_best_weights=True\n",
    ")\n",
    "\n",
    "# perform 5-fold cross-validation\n",
    "cv_accuracies = []\n",
    "\n",
    "for train_index, val_index in kf.split(X, y):\n",
    "    X_train, X_val = X[train_index], X[val_index]\n",
    "    y_train, y_val = y[train_index], y[val_index]\n",
    "\n",
    "    final_model.fit(\n",
    "        X_train, y_train, epochs=15, batch_size=32, verbose=0,\n",
    "        validation_data=(X_val, y_val), callbacks=[early_stopping]\n",
    "    )\n",
    "\n",
    "    val_loss, val_acc = final_model.evaluate(X_val, y_val, verbose=0)\n",
    "    cv_accuracies.append(val_acc)\n",
    "\n",
    "# print cross validation accuracy\n",
    "cross_val_acc = np.mean(cv_accuracies)\n",
    "print(f\"cross validation accuracy: {cross_val_acc:.4f}\")\n"
   ]
  },
  {
   "cell_type": "code",
   "execution_count": 35,
   "metadata": {},
   "outputs": [
    {
     "name": "stdout",
     "output_type": "stream",
     "text": [
      "\u001b[1m1/1\u001b[0m \u001b[32m━━━━━━━━━━━━━━━━━━━━\u001b[0m\u001b[37m\u001b[0m \u001b[1m0s\u001b[0m 41ms/step\n",
      "\n",
      "validation performance:\n",
      "accuracy: 0.5000\n",
      "\n",
      "classification report:\n",
      "                      precision    recall  f1-score   support\n",
      "\n",
      "negative control (0)       0.50      0.29      0.36         7\n",
      "        ratdance (1)       0.50      0.71      0.59         7\n",
      "\n",
      "            accuracy                           0.50        14\n",
      "           macro avg       0.50      0.50      0.48        14\n",
      "        weighted avg       0.50      0.50      0.48        14\n",
      "\n",
      "\n",
      "confusion matrix:\n",
      "[[2 5]\n",
      " [2 5]]\n"
     ]
    }
   ],
   "source": [
    "# load validation dataset\n",
    "val_folders = [\n",
    "    ('../rat_dance_csv/val', 1),\n",
    "    ('../neg_control_csv/val', 0)\n",
    "]\n",
    "\n",
    "X_val, y_val = load_sequential_data(val_folders)\n",
    "X_val = np.array([scaler.transform(sample) for sample in X_val])  \n",
    "X_val = X_val.reshape(len(X_val), timesteps, features)  \n",
    "\n",
    "# evaluate on validation set\n",
    "y_pred_prob = final_model.predict(X_val)\n",
    "y_pred = (y_pred_prob > 0.5).astype(int)\n",
    "\n",
    "accuracy = accuracy_score(y_val, y_pred)\n",
    "class_report = classification_report(y_val, y_pred, target_names=[\"negative control (0)\", \"ratdance (1)\"])\n",
    "conf_matrix = confusion_matrix(y_val, y_pred)\n",
    "\n",
    "# show results\n",
    "print(f\"\\nvalidation performance:\")\n",
    "print(f\"accuracy: {accuracy:.4f}\")\n",
    "print(\"\\nclassification report:\")\n",
    "print(class_report)\n",
    "print(\"\\nconfusion matrix:\")\n",
    "print(conf_matrix)"
   ]
  }
 ],
 "metadata": {
  "kernelspec": {
   "display_name": "Python 3",
   "language": "python",
   "name": "python3"
  },
  "language_info": {
   "codemirror_mode": {
    "name": "ipython",
    "version": 3
   },
   "file_extension": ".py",
   "mimetype": "text/x-python",
   "name": "python",
   "nbconvert_exporter": "python",
   "pygments_lexer": "ipython3",
   "version": "3.11.3"
  },
  "orig_nbformat": 4
 },
 "nbformat": 4,
 "nbformat_minor": 2
}
