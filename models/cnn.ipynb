{
 "cells": [
  {
   "cell_type": "code",
   "execution_count": 3,
   "metadata": {},
   "outputs": [],
   "source": [
    "import torch \n",
    "import torch.nn as nn\n",
    "import torch.nn.functional as F\n",
    "import torch.optim as optim \n",
    "from torchvision import datasets, transforms\n",
    "import numpy as np"
   ]
  },
  {
   "cell_type": "code",
   "execution_count": null,
   "metadata": {},
   "outputs": [],
   "source": []
  },
  {
   "cell_type": "code",
   "execution_count": null,
   "metadata": {},
   "outputs": [],
   "source": [
    "class Nettik(nn.Module):\n",
    "    def __init__ (self, num_classes):\n",
    "        super().__init__()\n",
    "\n",
    "        #Define the CNN for Image Classification\n",
    "        self.model = nn.Sequential"
   ]
  },
  {
   "cell_type": "code",
   "execution_count": null,
   "metadata": {},
   "outputs": [],
   "source": [
    "#Creating Training Loop for CNN \n",
    "net = Nettik(num_classes = n)\n",
    "\n",
    "#Criterion for Binary Classification; Cross entropy for multi-class\n",
    "criterion = nn.BCELoss()\n",
    "\n",
    "#Setting optiimzer for CNN\n",
    "optimizer = optim.Adam(net.parameters(), lr = 0.001 )\n",
    "\n",
    "#Creating the for-loop to execute training\n",
    "for epoch in range(10):\n",
    "    for images, _ in dataloader_train: \n",
    "        optimizer.zero_grad()\n",
    "        outputs = net(images)\n",
    "        loss = criterion(outputs, labels)\n",
    "        loss.backward()\n",
    "        optimizer.step()"
   ]
  }
 ],
 "metadata": {
  "kernelspec": {
   "display_name": "bmi-tiktok",
   "language": "python",
   "name": "python3"
  },
  "language_info": {
   "codemirror_mode": {
    "name": "ipython",
    "version": 3
   },
   "file_extension": ".py",
   "mimetype": "text/x-python",
   "name": "python",
   "nbconvert_exporter": "python",
   "pygments_lexer": "ipython3",
   "version": "3.9.21"
  }
 },
 "nbformat": 4,
 "nbformat_minor": 2
}
