{
 "cells": [
  {
   "cell_type": "code",
   "execution_count": 31,
   "metadata": {},
   "outputs": [],
   "source": [
    "import os \n",
    "import pandas as pd\n",
    "import numpy as np\n",
    "import xgboost as xgb\n",
    "from sklearn.preprocessing import StandardScaler\n",
    "from sklearn.model_selection import StratifiedKFold, cross_val_score\n",
    "from sklearn.metrics import accuracy_score, classification_report, confusion_matrix"
   ]
  },
  {
   "attachments": {},
   "cell_type": "markdown",
   "metadata": {},
   "source": [
    "xgboost model on full CSV file as input (frame is included)"
   ]
  },
  {
   "cell_type": "code",
   "execution_count": 32,
   "metadata": {},
   "outputs": [],
   "source": [
    "# set random seed\n",
    "np.random.seed(69)"
   ]
  },
  {
   "cell_type": "code",
   "execution_count": 33,
   "metadata": {},
   "outputs": [],
   "source": [
    "def load_data(folders):\n",
    "    \"\"\" load csvs as flattened feature vectors with labels \"\"\"\n",
    "    data, labels = [], []\n",
    "\n",
    "    for folder, _ in folders:\n",
    "        if os.path.exists(folder):\n",
    "            for file in os.listdir(folder):\n",
    "                if file.endswith('.csv'):\n",
    "                    file_path = os.path.join(folder, file)\n",
    "                    df = pd.read_csv(file_path)\n",
    "                    label = df.iloc[0, 0]  # extract label\n",
    "                    features = df.iloc[:, 1:].values.flatten()  # flatten features\n",
    "                    data.append(features)\n",
    "                    labels.append(label)\n",
    "        else:\n",
    "            print(f\"warning: folder {folder} not found.\")\n",
    "\n",
    "    return np.array(data), np.array(labels)"
   ]
  },
  {
   "attachments": {},
   "cell_type": "markdown",
   "metadata": {},
   "source": [
    "## Train XGboost"
   ]
  },
  {
   "cell_type": "code",
   "execution_count": 34,
   "metadata": {},
   "outputs": [
    {
     "name": "stderr",
     "output_type": "stream",
     "text": [
      "/opt/anaconda3/lib/python3.12/site-packages/xgboost/core.py:158: UserWarning: [16:23:31] WARNING: /Users/runner/work/xgboost/xgboost/src/learner.cc:740: \n",
      "Parameters: { \"use_label_encoder\" } are not used.\n",
      "\n",
      "  warnings.warn(smsg, UserWarning)\n",
      "/opt/anaconda3/lib/python3.12/site-packages/xgboost/core.py:158: UserWarning: [16:23:31] WARNING: /Users/runner/work/xgboost/xgboost/src/learner.cc:740: \n",
      "Parameters: { \"use_label_encoder\" } are not used.\n",
      "\n",
      "  warnings.warn(smsg, UserWarning)\n",
      "/opt/anaconda3/lib/python3.12/site-packages/xgboost/core.py:158: UserWarning: [16:23:32] WARNING: /Users/runner/work/xgboost/xgboost/src/learner.cc:740: \n",
      "Parameters: { \"use_label_encoder\" } are not used.\n",
      "\n",
      "  warnings.warn(smsg, UserWarning)\n",
      "/opt/anaconda3/lib/python3.12/site-packages/xgboost/core.py:158: UserWarning: [16:23:32] WARNING: /Users/runner/work/xgboost/xgboost/src/learner.cc:740: \n",
      "Parameters: { \"use_label_encoder\" } are not used.\n",
      "\n",
      "  warnings.warn(smsg, UserWarning)\n",
      "/opt/anaconda3/lib/python3.12/site-packages/xgboost/core.py:158: UserWarning: [16:23:33] WARNING: /Users/runner/work/xgboost/xgboost/src/learner.cc:740: \n",
      "Parameters: { \"use_label_encoder\" } are not used.\n",
      "\n",
      "  warnings.warn(smsg, UserWarning)\n"
     ]
    },
    {
     "name": "stdout",
     "output_type": "stream",
     "text": [
      "cross-validation accuracy: 0.8333\n"
     ]
    }
   ],
   "source": [
    "# define training folders\n",
    "train_folders = [\n",
    "    ('../rat_dance_csv/train/', 1),\n",
    "    ('../neg_control_csv/train', 0)\n",
    "]\n",
    "# load dataset\n",
    "X, y = load_data(train_folders)\n",
    "\n",
    "# normalize features\n",
    "scaler = StandardScaler()\n",
    "X = scaler.fit_transform(X)\n",
    "\n",
    "# shuffle dataset\n",
    "indices = np.random.permutation(len(X))\n",
    "X, y = X[indices], y[indices]\n",
    "\n",
    "# define xgboost model\n",
    "clf = xgb.XGBClassifier(\n",
    "    n_estimators=100, # number of trees\n",
    "    max_depth=6, # maximum depth of each tree\n",
    "    learning_rate=0.1, # step size shrinkage to prevent overfitting\n",
    "    subsample=0.8, # fraction of samples used per tree\n",
    "    colsample_bytree=0.8,  # fraction of features used per tree\n",
    "    use_label_encoder=False,  # suppress warning for new sklearn API\n",
    "    eval_metric='logloss',  # evaluation metric\n",
    "    random_state=69\n",
    ")\n",
    "\n",
    "# stratified k-folds cross-validation\n",
    "cv = StratifiedKFold(n_splits=5, shuffle=True, random_state=69)\n",
    "cross_val_acc = cross_val_score(clf, X, y, cv=cv).mean()\n",
    "\n",
    "# print results\n",
    "print(f\"cross-validation accuracy: {cross_val_acc:.4f}\")"
   ]
  },
  {
   "attachments": {},
   "cell_type": "markdown",
   "metadata": {},
   "source": [
    "## Validate XGBoost"
   ]
  },
  {
   "cell_type": "code",
   "execution_count": 35,
   "metadata": {},
   "outputs": [
    {
     "name": "stderr",
     "output_type": "stream",
     "text": [
      "/opt/anaconda3/lib/python3.12/site-packages/xgboost/core.py:158: UserWarning: [16:23:33] WARNING: /Users/runner/work/xgboost/xgboost/src/learner.cc:740: \n",
      "Parameters: { \"use_label_encoder\" } are not used.\n",
      "\n",
      "  warnings.warn(smsg, UserWarning)\n"
     ]
    },
    {
     "name": "stdout",
     "output_type": "stream",
     "text": [
      "\n",
      "validation performance:\n",
      "accuracy: 0.9286\n",
      "\n",
      "classification report:\n",
      "                      precision    recall  f1-score   support\n",
      "\n",
      "negative control (0)       0.88      1.00      0.93         7\n",
      "        ratdance (1)       1.00      0.86      0.92         7\n",
      "\n",
      "            accuracy                           0.93        14\n",
      "           macro avg       0.94      0.93      0.93        14\n",
      "        weighted avg       0.94      0.93      0.93        14\n",
      "\n",
      "\n",
      "confusion matrix:\n",
      "[[7 0]\n",
      " [1 6]]\n"
     ]
    }
   ],
   "source": [
    "# load validation dataset\n",
    "val_folders = [\n",
    "    ('../rat_dance_csv/val', 1),\n",
    "    ('../neg_control_csv/val', 0)\n",
    "]\n",
    "\n",
    "X_val, y_val = load_data(val_folders)\n",
    "X_val = scaler.transform(X_val)  # apply same scaling\n",
    "\n",
    "# train on full training set\n",
    "clf.fit(X, y)\n",
    "\n",
    "# evaluate on validation set\n",
    "y_pred = clf.predict(X_val)\n",
    "accuracy = accuracy_score(y_val, y_pred)\n",
    "class_report = classification_report(y_val, y_pred, target_names=[\"negative control (0)\", \"ratdance (1)\"])\n",
    "conf_matrix = confusion_matrix(y_val, y_pred)\n",
    "\n",
    "# show results\n",
    "print(f\"\\nvalidation performance:\")\n",
    "print(f\"accuracy: {accuracy:.4f}\")\n",
    "print(\"\\nclassification report:\")\n",
    "print(class_report)\n",
    "print(\"\\nconfusion matrix:\")\n",
    "print(conf_matrix)"
   ]
  },
  {
   "cell_type": "code",
   "execution_count": 36,
   "metadata": {},
   "outputs": [
    {
     "name": "stderr",
     "output_type": "stream",
     "text": [
      "/opt/anaconda3/lib/python3.12/site-packages/xgboost/core.py:158: UserWarning: [16:23:33] WARNING: /Users/runner/work/xgboost/xgboost/src/learner.cc:740: \n",
      "Parameters: { \"use_label_encoder\" } are not used.\n",
      "\n",
      "  warnings.warn(smsg, UserWarning)\n"
     ]
    },
    {
     "name": "stdout",
     "output_type": "stream",
     "text": [
      "\n",
      "validation performance:\n",
      "accuracy: 0.7143\n",
      "\n",
      "classification report:\n",
      "                      precision    recall  f1-score   support\n",
      "\n",
      "negative control (0)       1.00      0.43      0.60         7\n",
      "        ratdance (1)       0.64      1.00      0.78         7\n",
      "\n",
      "            accuracy                           0.71        14\n",
      "           macro avg       0.82      0.71      0.69        14\n",
      "        weighted avg       0.82      0.71      0.69        14\n",
      "\n",
      "\n",
      "confusion matrix:\n",
      "[[3 4]\n",
      " [0 7]]\n"
     ]
    }
   ],
   "source": [
    "# load validation dataset\n",
    "test_folders = [\n",
    "    ('../rat_dance_csv/test', 1),\n",
    "    ('../neg_control_csv/test', 0)\n",
    "]\n",
    "\n",
    "X_val, y_val = load_data(test_folders)\n",
    "X_val = scaler.transform(X_val)  # apply same scaling\n",
    "\n",
    "# train on full training set\n",
    "clf.fit(X, y)\n",
    "\n",
    "# evaluate on validation set\n",
    "y_pred = clf.predict(X_val)\n",
    "accuracy = accuracy_score(y_val, y_pred)\n",
    "class_report = classification_report(y_val, y_pred, target_names=[\"negative control (0)\", \"ratdance (1)\"])\n",
    "conf_matrix = confusion_matrix(y_val, y_pred)\n",
    "\n",
    "# show results\n",
    "print(f\"\\nvalidation performance:\")\n",
    "print(f\"accuracy: {accuracy:.4f}\")\n",
    "print(\"\\nclassification report:\")\n",
    "print(class_report)\n",
    "print(\"\\nconfusion matrix:\")\n",
    "print(conf_matrix)"
   ]
  },
  {
   "cell_type": "code",
   "execution_count": 37,
   "metadata": {},
   "outputs": [
    {
     "data": {
      "text/plain": [
       "['xg.pkl']"
      ]
     },
     "execution_count": 37,
     "metadata": {},
     "output_type": "execute_result"
    }
   ],
   "source": [
    "import joblib\n",
    "\n",
    "joblib.dump(clf, 'xg.pkl')\n"
   ]
  },
  {
   "cell_type": "code",
   "execution_count": null,
   "metadata": {},
   "outputs": [],
   "source": []
  }
 ],
 "metadata": {
  "kernelspec": {
   "display_name": "base",
   "language": "python",
   "name": "python3"
  },
  "language_info": {
   "codemirror_mode": {
    "name": "ipython",
    "version": 3
   },
   "file_extension": ".py",
   "mimetype": "text/x-python",
   "name": "python",
   "nbconvert_exporter": "python",
   "pygments_lexer": "ipython3",
   "version": "3.12.4"
  },
  "orig_nbformat": 4
 },
 "nbformat": 4,
 "nbformat_minor": 2
}
